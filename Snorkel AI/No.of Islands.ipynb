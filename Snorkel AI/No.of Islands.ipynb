{
 "cells": [
  {
   "cell_type": "code",
   "execution_count": 74,
   "metadata": {},
   "outputs": [
    {
     "name": "stdout",
     "output_type": "stream",
     "text": [
      "[[0 0 0 1 1]\n",
      " [1 1 0 0 0]\n",
      " [1 1 0 0 0]\n",
      " [0 0 0 1 1]\n",
      " [0 0 0 1 0]]\n"
     ]
    }
   ],
   "source": [
    "import numpy as np\n",
    "\n",
    "grid = np.array([[0,0,0,1,1],[1,1,0,0,0],[1,1,0,0,0],[0,0,0,1,1],[0,0,0,1,0]])\n",
    "print(grid)\n"
   ]
  },
  {
   "cell_type": "code",
   "execution_count": 86,
   "metadata": {},
   "outputs": [],
   "source": [
    "def get_Adjacents(x,y,grid):\n",
    "    \n",
    "    x1 = x-1\n",
    "    x2 = x+1\n",
    "    y1 = y-1\n",
    "    y2 = y+1\n",
    "    \n",
    "    L = []\n",
    "    \n",
    "    p = list(range(0,grid.shape[0]))\n",
    "    q = list(range(0,grid.shape[1]))\n",
    "    \n",
    "    if x1 in p:\n",
    "        if grid[x1][y] == 1:\n",
    "            L.append((x1,y))\n",
    "    \n",
    "    if x2 in p:\n",
    "        if grid[x2][y] == 1:\n",
    "            L.append((x2,y))\n",
    "        \n",
    "    if y1 in q:\n",
    "        if grid[x][y1] == 1:\n",
    "            L.append((x,y1))\n",
    "        \n",
    "    if y2 in q:\n",
    "        if grid[x][y2] == 1:\n",
    "            L.append((x,y2))\n",
    "        \n",
    "    return L"
   ]
  },
  {
   "cell_type": "code",
   "execution_count": 91,
   "metadata": {},
   "outputs": [],
   "source": [
    "def no_of_Islands(grid):\n",
    "    \n",
    "    total_islands = 0\n",
    "    n,m = grid.shape\n",
    "    \n",
    "    seen = set()\n",
    "    Islands = []\n",
    "    \n",
    "    for i in range(n):\n",
    "        for j in range(m):\n",
    "            \n",
    "            if (i,j) not in seen:\n",
    "                seen.add((i,j))\n",
    "                \n",
    "                if grid[i][j] == 1:\n",
    "                    \n",
    "                    print(\"Node\",[i,j],\" = 1\")\n",
    "                    island = [(i,j)]\n",
    "                    island_c = island.copy()\n",
    "                    \n",
    "                    while(len(island) != 0):\n",
    "                        p,q = island.pop()\n",
    "                        \n",
    "                        adjacents = get_Adjacents(p,q,grid)\n",
    "                    \n",
    "                        for a in adjacents:\n",
    "                            if a not in island_c:\n",
    "                                island.insert(0,a)\n",
    "                                island_c.append(a)\n",
    "                                seen.add(a)\n",
    "                                \n",
    "                    Islands.append(island_c)\n",
    "                    total_islands += 1\n",
    "                    \n",
    "                else:\n",
    "                    continue\n",
    "                    \n",
    "    print(\"Total no.of Islands\",total_islands)\n",
    "    return total_islands     \n",
    "                "
   ]
  },
  {
   "cell_type": "code",
   "execution_count": 92,
   "metadata": {},
   "outputs": [
    {
     "name": "stdout",
     "output_type": "stream",
     "text": [
      "Node [0, 3]  = 1\n",
      "Node [1, 0]  = 1\n",
      "Node [3, 3]  = 1\n",
      "Total no.of Islands 3\n"
     ]
    },
    {
     "data": {
      "text/plain": [
       "3"
      ]
     },
     "execution_count": 92,
     "metadata": {},
     "output_type": "execute_result"
    }
   ],
   "source": [
    "no_of_Islands(grid)"
   ]
  },
  {
   "cell_type": "code",
   "execution_count": 96,
   "metadata": {},
   "outputs": [
    {
     "data": {
      "text/plain": [
       "2"
      ]
     },
     "execution_count": 96,
     "metadata": {},
     "output_type": "execute_result"
    }
   ],
   "source": [
    "13//5"
   ]
  },
  {
   "cell_type": "code",
   "execution_count": 126,
   "metadata": {},
   "outputs": [
    {
     "name": "stdout",
     "output_type": "stream",
     "text": [
      "index 2\n",
      "o 43\n",
      "o 5432\n",
      "o 654321\n"
     ]
    }
   ],
   "source": [
    "s = '123456'\n",
    "\n",
    "if len(s)%2 == 0:\n",
    "    o = ''\n",
    "    index = len(s)//2 - 1\n",
    "    print(\"index\",index)\n",
    "    for i in range(len(s)//2):\n",
    "        o = s[index + 1 + i] + o + s[index - i]\n",
    "        print(\"o\",o)\n",
    "else:\n",
    "    index = len(s)//2 \n",
    "    \n",
    "    o = s[index]\n",
    "    for i in range(len(s)//2):\n",
    "        o = s[index + 1 + i] + o + s[index-(1 + i)]\n",
    "        print(\"o\",o)\n",
    "\n",
    "    "
   ]
  },
  {
   "cell_type": "code",
   "execution_count": 290,
   "metadata": {},
   "outputs": [],
   "source": [
    "class User:\n",
    "    \n",
    "    def __init__(self, userid):\n",
    "        self.user = userid\n",
    "        self.username_list = []\n",
    "        self.username = ''\n",
    "        self.connections = {}\n",
    "        self.deleted_connections = set()\n",
    "        \n",
    "    def addUser(self,username):\n",
    "        if str(username) not in self.username_list:\n",
    "            self.username_list.append(str(username))\n",
    "            self.username = username\n",
    "            return self.username\n",
    "        else:\n",
    "            pritn(\"User ID already exists\")\n",
    "        \n",
    "    def getUsername(self,userid):\n",
    "        return userid.username\n",
    "    \n",
    "    def addConnection(self, userid1, userid2):\n",
    "        if userid1.username != '' and userid2.username != '':\n",
    "            if userid2.username not in userid1.connections:\n",
    "                userid1.connections[userid2] = userid2.username \n",
    "            if userid1.username not in userid2.connections:\n",
    "                userid2.connections[userid1] = userid1.username \n",
    "        else:\n",
    "            print(\"One of the user's does not exist\")\n",
    "    \n",
    "    def areConnected(self,userid1,userid2):\n",
    "        if userid1 in userid2.connections:\n",
    "            return True\n",
    "        else:\n",
    "            return False\n",
    "    \n",
    "    def deleteUser(userid):\n",
    "        if userid.username != '':\n",
    "            self.username_list.remove(userid.username)\n",
    "            userid.username = ''\n",
    "            userid.connections = []\n",
    "        else:\n",
    "            pritn(\"User does not exist\")\n",
    "            \n",
    "    def deleteConnection(self,userid1, userid2):\n",
    "        if userid1.username != '' and userid2.username != '':\n",
    "            if userid1 in userid2.connections:\n",
    "                userid2.connections.pop(userid1)\n",
    "                userid2.deleted_connections.add(userid1)\n",
    "            if userid2 in userid1.connections:\n",
    "                userid1.connections.pop(userid2)\n",
    "                userid1.deleted_connections.add(userid2)\n",
    "        else:\n",
    "            print(\"One of the user's does not exist\")\n",
    "            \n",
    "    def getRecommendedConnections(self,userid):\n",
    "        recommendations = set()\n",
    "        for i in userid.connections:\n",
    "            for j in i.connections:\n",
    "                if j.user != userid.user:\n",
    "                    recommendations.add(j.user)\n",
    "                    \n",
    "                recommendations.union(j.deleted_connections)\n",
    "\n",
    "        return recommendations"
   ]
  },
  {
   "cell_type": "code",
   "execution_count": 291,
   "metadata": {},
   "outputs": [
    {
     "data": {
      "text/plain": [
       "{'username3'}"
      ]
     },
     "execution_count": 291,
     "metadata": {},
     "output_type": "execute_result"
    }
   ],
   "source": [
    "user1 = User(\"user1\")\n",
    "user1.addUser(\"username1\")\n",
    "user1.getUsername(user1)\n",
    "user2 = User(\"username2\")\n",
    "user2.addUser(\"username2\")\n",
    "\n",
    "user3 = User(\"username3\")\n",
    "user3.addUser(\"username3\")\n",
    "\n",
    "user4 = User(\"username4\")\n",
    "user4.addUser(\"username4\")\n",
    "\n",
    "user1.addConnection(user1,user2)\n",
    "user2.addConnection(user2,user3)\n",
    "\n",
    "user1.areConnected(user1,user2)\n",
    "\n",
    "user2.connections[user1]\n",
    "\n",
    "user1.getRecommendedConnections(user1)"
   ]
  },
  {
   "cell_type": "code",
   "execution_count": null,
   "metadata": {},
   "outputs": [],
   "source": []
  }
 ],
 "metadata": {
  "kernelspec": {
   "display_name": "Python 3",
   "language": "python",
   "name": "python3"
  },
  "language_info": {
   "codemirror_mode": {
    "name": "ipython",
    "version": 3
   },
   "file_extension": ".py",
   "mimetype": "text/x-python",
   "name": "python",
   "nbconvert_exporter": "python",
   "pygments_lexer": "ipython3",
   "version": "3.6.8"
  }
 },
 "nbformat": 4,
 "nbformat_minor": 2
}
