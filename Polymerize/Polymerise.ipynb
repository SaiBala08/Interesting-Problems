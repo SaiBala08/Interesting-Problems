{
 "cells": [
  {
   "cell_type": "code",
   "execution_count": 2,
   "id": "f33b28ed",
   "metadata": {},
   "outputs": [],
   "source": [
    "import numpy as np\n",
    "import tensorflow as tf\n",
    "from tensorflow import keras\n",
    "from tensorflow.keras import layers\n",
    "from tensorflow.keras.utils import plot_model\n",
    "\n",
    "\n",
    "import matplotlib.pyplot as plt\n",
    "from sklearn.model_selection import train_test_split\n"
   ]
  },
  {
   "cell_type": "code",
   "execution_count": 3,
   "id": "cc0b26cb",
   "metadata": {},
   "outputs": [],
   "source": [
    "def scale_conversion_layer(time_series, scales):\n",
    "\n",
    "\n",
    "    sampled_time_series = []\n",
    "    for scale in scales:\n",
    "        sampled_time_series.append(time_series[::scale])\n",
    "        print('Sampled Time Series ',time_series[::scale])\n",
    "        print('Length of samples TS ',len(time_series[::scale]))\n",
    "\n",
    "    # Filter the sampled time-series with a low-pass filter.\n",
    "    filtered_time_series = []\n",
    "    for sampled_time_series in sampled_time_series:\n",
    "        filtered_time_series.append(np.convolve(sampled_time_series, np.ones(5), mode='same'))\n",
    "        print('Filtered Time Series ',np.convolve(sampled_time_series, np.ones(5), mode='same'))\n",
    "        print('Length of Filtered TS ',len(np.convolve(sampled_time_series, np.ones(5), mode='same')))\n",
    "\n",
    "    # Return the set of time-series at different scales.\n",
    "    return filtered_time_series"
   ]
  },
  {
   "cell_type": "code",
   "execution_count": 4,
   "id": "8ae953c9",
   "metadata": {},
   "outputs": [],
   "source": [
    "#scale_conversion_layer(np.arange(20), [1,2,5])"
   ]
  },
  {
   "cell_type": "code",
   "execution_count": 5,
   "id": "52e77e67",
   "metadata": {},
   "outputs": [],
   "source": [
    "inputs = keras.Input(shape=(32, 32, 3), name=\"img\")\n",
    "x = layers.Conv2D(32, 3, activation=\"relu\")(inputs)\n",
    "x = layers.Conv2D(64, 3, activation=\"relu\")(x)\n",
    "block_1_output = layers.MaxPooling2D(3)(x)\n",
    "\n",
    "x = layers.Conv2D(64, 3, activation=\"relu\", padding=\"same\")(block_1_output)\n",
    "x = layers.Conv2D(64, 3, activation=\"relu\", padding=\"same\")(x)\n",
    "block_2_output = layers.add([x, block_1_output])\n",
    "\n",
    "x = layers.Conv2D(64, 3, activation=\"relu\", padding=\"same\")(block_2_output)\n",
    "x = layers.Conv2D(64, 3, activation=\"relu\", padding=\"same\")(x)\n",
    "block_3_output = layers.add([x, block_2_output])\n",
    "\n",
    "x = layers.Conv2D(64, 3, activation=\"relu\")(block_3_output)\n",
    "x = layers.GlobalAveragePooling2D()(x)\n",
    "x = layers.Dense(256, activation=\"relu\")(x)\n",
    "x = layers.Dropout(0.5)(x)\n",
    "outputs = layers.Dense(10)(x)\n",
    "\n",
    "model = keras.Model(inputs, outputs, name=\"toy_resnet\")\n",
    "#model.summary()"
   ]
  },
  {
   "cell_type": "code",
   "execution_count": 7,
   "id": "dc36c692",
   "metadata": {},
   "outputs": [
    {
     "name": "stdout",
     "output_type": "stream",
     "text": [
      "You must install pydot (`pip install pydot`) and install graphviz (see instructions at https://graphviz.gitlab.io/download/) for plot_model to work.\n"
     ]
    }
   ],
   "source": [
    "plot_model(model, \"multi_input_and_output_model.png\", show_shapes=True)"
   ]
  },
  {
   "cell_type": "code",
   "execution_count": null,
   "id": "63332c23",
   "metadata": {},
   "outputs": [],
   "source": []
  }
 ],
 "metadata": {
  "kernelspec": {
   "display_name": "Python 3 (ipykernel)",
   "language": "python",
   "name": "python3"
  },
  "language_info": {
   "codemirror_mode": {
    "name": "ipython",
    "version": 3
   },
   "file_extension": ".py",
   "mimetype": "text/x-python",
   "name": "python",
   "nbconvert_exporter": "python",
   "pygments_lexer": "ipython3",
   "version": "3.9.12"
  }
 },
 "nbformat": 4,
 "nbformat_minor": 5
}
